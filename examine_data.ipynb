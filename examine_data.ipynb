{
 "cells": [
  {
   "cell_type": "code",
   "execution_count": 54,
   "metadata": {
    "ExecuteTime": {
     "end_time": "2023-11-26T14:24:29.875871Z",
     "start_time": "2023-11-26T14:24:29.864637Z"
    }
   },
   "outputs": [
    {
     "data": {
      "text/plain": "    GENDER  AGE  SMOKING  YELLOW_FINGERS  ANXIETY  PEER_PRESSURE  \\\n0        M   69        1               2        2              1   \n1        M   74        2               1        1              1   \n2        F   59        1               1        1              2   \n3        M   63        2               2        2              1   \n4        F   63        1               2        1              1   \n..     ...  ...      ...             ...      ...            ...   \n304      F   56        1               1        1              2   \n305      M   70        2               1        1              1   \n306      M   58        2               1        1              1   \n307      M   67        2               1        2              1   \n308      M   62        1               1        1              2   \n\n     CHRONIC DISEASE  FATIGUE   ALLERGY   WHEEZING  ALCOHOL CONSUMING  \\\n0                  1         2         1         2                  2   \n1                  2         2         2         1                  1   \n2                  1         2         1         2                  1   \n3                  1         1         1         1                  2   \n4                  1         1         1         2                  1   \n..               ...       ...       ...       ...                ...   \n304                2         2         1         1                  2   \n305                1         2         2         2                  2   \n306                1         1         2         2                  2   \n307                1         2         2         1                  2   \n308                1         2         2         2                  2   \n\n     COUGHING  SHORTNESS OF BREATH  SWALLOWING DIFFICULTY  CHEST PAIN  \\\n0           2                    2                      2           2   \n1           1                    2                      2           2   \n2           2                    2                      1           2   \n3           1                    1                      2           2   \n4           2                    2                      1           1   \n..        ...                  ...                    ...         ...   \n304         2                    2                      2           1   \n305         2                    2                      1           2   \n306         2                    1                      1           2   \n307         2                    2                      1           2   \n308         1                    1                      2           1   \n\n    LUNG_CANCER  \n0           YES  \n1           YES  \n2            NO  \n3            NO  \n4            NO  \n..          ...  \n304         YES  \n305         YES  \n306         YES  \n307         YES  \n308         YES  \n\n[309 rows x 16 columns]",
      "text/html": "<div>\n<style scoped>\n    .dataframe tbody tr th:only-of-type {\n        vertical-align: middle;\n    }\n\n    .dataframe tbody tr th {\n        vertical-align: top;\n    }\n\n    .dataframe thead th {\n        text-align: right;\n    }\n</style>\n<table border=\"1\" class=\"dataframe\">\n  <thead>\n    <tr style=\"text-align: right;\">\n      <th></th>\n      <th>GENDER</th>\n      <th>AGE</th>\n      <th>SMOKING</th>\n      <th>YELLOW_FINGERS</th>\n      <th>ANXIETY</th>\n      <th>PEER_PRESSURE</th>\n      <th>CHRONIC DISEASE</th>\n      <th>FATIGUE</th>\n      <th>ALLERGY</th>\n      <th>WHEEZING</th>\n      <th>ALCOHOL CONSUMING</th>\n      <th>COUGHING</th>\n      <th>SHORTNESS OF BREATH</th>\n      <th>SWALLOWING DIFFICULTY</th>\n      <th>CHEST PAIN</th>\n      <th>LUNG_CANCER</th>\n    </tr>\n  </thead>\n  <tbody>\n    <tr>\n      <th>0</th>\n      <td>M</td>\n      <td>69</td>\n      <td>1</td>\n      <td>2</td>\n      <td>2</td>\n      <td>1</td>\n      <td>1</td>\n      <td>2</td>\n      <td>1</td>\n      <td>2</td>\n      <td>2</td>\n      <td>2</td>\n      <td>2</td>\n      <td>2</td>\n      <td>2</td>\n      <td>YES</td>\n    </tr>\n    <tr>\n      <th>1</th>\n      <td>M</td>\n      <td>74</td>\n      <td>2</td>\n      <td>1</td>\n      <td>1</td>\n      <td>1</td>\n      <td>2</td>\n      <td>2</td>\n      <td>2</td>\n      <td>1</td>\n      <td>1</td>\n      <td>1</td>\n      <td>2</td>\n      <td>2</td>\n      <td>2</td>\n      <td>YES</td>\n    </tr>\n    <tr>\n      <th>2</th>\n      <td>F</td>\n      <td>59</td>\n      <td>1</td>\n      <td>1</td>\n      <td>1</td>\n      <td>2</td>\n      <td>1</td>\n      <td>2</td>\n      <td>1</td>\n      <td>2</td>\n      <td>1</td>\n      <td>2</td>\n      <td>2</td>\n      <td>1</td>\n      <td>2</td>\n      <td>NO</td>\n    </tr>\n    <tr>\n      <th>3</th>\n      <td>M</td>\n      <td>63</td>\n      <td>2</td>\n      <td>2</td>\n      <td>2</td>\n      <td>1</td>\n      <td>1</td>\n      <td>1</td>\n      <td>1</td>\n      <td>1</td>\n      <td>2</td>\n      <td>1</td>\n      <td>1</td>\n      <td>2</td>\n      <td>2</td>\n      <td>NO</td>\n    </tr>\n    <tr>\n      <th>4</th>\n      <td>F</td>\n      <td>63</td>\n      <td>1</td>\n      <td>2</td>\n      <td>1</td>\n      <td>1</td>\n      <td>1</td>\n      <td>1</td>\n      <td>1</td>\n      <td>2</td>\n      <td>1</td>\n      <td>2</td>\n      <td>2</td>\n      <td>1</td>\n      <td>1</td>\n      <td>NO</td>\n    </tr>\n    <tr>\n      <th>...</th>\n      <td>...</td>\n      <td>...</td>\n      <td>...</td>\n      <td>...</td>\n      <td>...</td>\n      <td>...</td>\n      <td>...</td>\n      <td>...</td>\n      <td>...</td>\n      <td>...</td>\n      <td>...</td>\n      <td>...</td>\n      <td>...</td>\n      <td>...</td>\n      <td>...</td>\n      <td>...</td>\n    </tr>\n    <tr>\n      <th>304</th>\n      <td>F</td>\n      <td>56</td>\n      <td>1</td>\n      <td>1</td>\n      <td>1</td>\n      <td>2</td>\n      <td>2</td>\n      <td>2</td>\n      <td>1</td>\n      <td>1</td>\n      <td>2</td>\n      <td>2</td>\n      <td>2</td>\n      <td>2</td>\n      <td>1</td>\n      <td>YES</td>\n    </tr>\n    <tr>\n      <th>305</th>\n      <td>M</td>\n      <td>70</td>\n      <td>2</td>\n      <td>1</td>\n      <td>1</td>\n      <td>1</td>\n      <td>1</td>\n      <td>2</td>\n      <td>2</td>\n      <td>2</td>\n      <td>2</td>\n      <td>2</td>\n      <td>2</td>\n      <td>1</td>\n      <td>2</td>\n      <td>YES</td>\n    </tr>\n    <tr>\n      <th>306</th>\n      <td>M</td>\n      <td>58</td>\n      <td>2</td>\n      <td>1</td>\n      <td>1</td>\n      <td>1</td>\n      <td>1</td>\n      <td>1</td>\n      <td>2</td>\n      <td>2</td>\n      <td>2</td>\n      <td>2</td>\n      <td>1</td>\n      <td>1</td>\n      <td>2</td>\n      <td>YES</td>\n    </tr>\n    <tr>\n      <th>307</th>\n      <td>M</td>\n      <td>67</td>\n      <td>2</td>\n      <td>1</td>\n      <td>2</td>\n      <td>1</td>\n      <td>1</td>\n      <td>2</td>\n      <td>2</td>\n      <td>1</td>\n      <td>2</td>\n      <td>2</td>\n      <td>2</td>\n      <td>1</td>\n      <td>2</td>\n      <td>YES</td>\n    </tr>\n    <tr>\n      <th>308</th>\n      <td>M</td>\n      <td>62</td>\n      <td>1</td>\n      <td>1</td>\n      <td>1</td>\n      <td>2</td>\n      <td>1</td>\n      <td>2</td>\n      <td>2</td>\n      <td>2</td>\n      <td>2</td>\n      <td>1</td>\n      <td>1</td>\n      <td>2</td>\n      <td>1</td>\n      <td>YES</td>\n    </tr>\n  </tbody>\n</table>\n<p>309 rows × 16 columns</p>\n</div>"
     },
     "execution_count": 54,
     "metadata": {},
     "output_type": "execute_result"
    }
   ],
   "source": [
    "#imported pandas and named it pd as a shortcut\n",
    "import pandas as pd\n",
    "# Read the csv into a dataframe\n",
    "df = pd.read_csv(\"data/survey_lung_cancer.csv\")\n",
    "df"
   ]
  },
  {
   "cell_type": "code",
   "execution_count": 55,
   "metadata": {
    "ExecuteTime": {
     "end_time": "2023-11-26T14:24:30.477826Z",
     "start_time": "2023-11-26T14:24:30.475226Z"
    }
   },
   "outputs": [
    {
     "data": {
      "text/plain": "(309, 16)"
     },
     "execution_count": 55,
     "metadata": {},
     "output_type": "execute_result"
    }
   ],
   "source": [
    "# The number of rows and columns in a dataframe (df.shape)\n",
    "df.shape"
   ]
  },
  {
   "cell_type": "code",
   "execution_count": 56,
   "metadata": {
    "ExecuteTime": {
     "end_time": "2023-11-26T14:24:30.873585Z",
     "start_time": "2023-11-26T14:24:30.870071Z"
    }
   },
   "outputs": [
    {
     "data": {
      "text/plain": "Index(['GENDER', 'AGE', 'SMOKING', 'YELLOW_FINGERS', 'ANXIETY',\n       'PEER_PRESSURE', 'CHRONIC DISEASE', 'FATIGUE ', 'ALLERGY ', 'WHEEZING',\n       'ALCOHOL CONSUMING', 'COUGHING', 'SHORTNESS OF BREATH',\n       'SWALLOWING DIFFICULTY', 'CHEST PAIN', 'LUNG_CANCER'],\n      dtype='object')"
     },
     "execution_count": 56,
     "metadata": {},
     "output_type": "execute_result"
    }
   ],
   "source": [
    "df.columns\n"
   ]
  },
  {
   "cell_type": "code",
   "execution_count": 57,
   "metadata": {
    "ExecuteTime": {
     "end_time": "2023-11-26T14:24:31.299403Z",
     "start_time": "2023-11-26T14:24:31.293472Z"
    }
   },
   "outputs": [],
   "source": [
    "gender_mapping = {'M': 0, 'F': 1}\n",
    "df['GENDER'] = df['GENDER'].map(gender_mapping)\n",
    "\n",
    "result_mapping = {'YES': 1, 'NO': 0}\n",
    "df['LUNG_CANCER'] = df['LUNG_CANCER'].map(result_mapping)\n"
   ]
  },
  {
   "cell_type": "code",
   "execution_count": 58,
   "metadata": {
    "ExecuteTime": {
     "end_time": "2023-11-26T14:24:31.687620Z",
     "start_time": "2023-11-26T14:24:31.684117Z"
    }
   },
   "outputs": [
    {
     "data": {
      "text/plain": "     GENDER  AGE  SMOKING  YELLOW_FINGERS  ANXIETY  PEER_PRESSURE  \\\n0         0   69        1               2        2              1   \n1         0   74        2               1        1              1   \n2         1   59        1               1        1              2   \n3         0   63        2               2        2              1   \n4         1   63        1               2        1              1   \n..      ...  ...      ...             ...      ...            ...   \n304       1   56        1               1        1              2   \n305       0   70        2               1        1              1   \n306       0   58        2               1        1              1   \n307       0   67        2               1        2              1   \n308       0   62        1               1        1              2   \n\n     CHRONIC DISEASE  FATIGUE   ALLERGY   WHEEZING  ALCOHOL CONSUMING  \\\n0                  1         2         1         2                  2   \n1                  2         2         2         1                  1   \n2                  1         2         1         2                  1   \n3                  1         1         1         1                  2   \n4                  1         1         1         2                  1   \n..               ...       ...       ...       ...                ...   \n304                2         2         1         1                  2   \n305                1         2         2         2                  2   \n306                1         1         2         2                  2   \n307                1         2         2         1                  2   \n308                1         2         2         2                  2   \n\n     COUGHING  SHORTNESS OF BREATH  SWALLOWING DIFFICULTY  CHEST PAIN  \\\n0           2                    2                      2           2   \n1           1                    2                      2           2   \n2           2                    2                      1           2   \n3           1                    1                      2           2   \n4           2                    2                      1           1   \n..        ...                  ...                    ...         ...   \n304         2                    2                      2           1   \n305         2                    2                      1           2   \n306         2                    1                      1           2   \n307         2                    2                      1           2   \n308         1                    1                      2           1   \n\n     LUNG_CANCER  \n0              1  \n1              1  \n2              0  \n3              0  \n4              0  \n..           ...  \n304            1  \n305            1  \n306            1  \n307            1  \n308            1  \n\n[309 rows x 16 columns]",
      "text/html": "<div>\n<style scoped>\n    .dataframe tbody tr th:only-of-type {\n        vertical-align: middle;\n    }\n\n    .dataframe tbody tr th {\n        vertical-align: top;\n    }\n\n    .dataframe thead th {\n        text-align: right;\n    }\n</style>\n<table border=\"1\" class=\"dataframe\">\n  <thead>\n    <tr style=\"text-align: right;\">\n      <th></th>\n      <th>GENDER</th>\n      <th>AGE</th>\n      <th>SMOKING</th>\n      <th>YELLOW_FINGERS</th>\n      <th>ANXIETY</th>\n      <th>PEER_PRESSURE</th>\n      <th>CHRONIC DISEASE</th>\n      <th>FATIGUE</th>\n      <th>ALLERGY</th>\n      <th>WHEEZING</th>\n      <th>ALCOHOL CONSUMING</th>\n      <th>COUGHING</th>\n      <th>SHORTNESS OF BREATH</th>\n      <th>SWALLOWING DIFFICULTY</th>\n      <th>CHEST PAIN</th>\n      <th>LUNG_CANCER</th>\n    </tr>\n  </thead>\n  <tbody>\n    <tr>\n      <th>0</th>\n      <td>0</td>\n      <td>69</td>\n      <td>1</td>\n      <td>2</td>\n      <td>2</td>\n      <td>1</td>\n      <td>1</td>\n      <td>2</td>\n      <td>1</td>\n      <td>2</td>\n      <td>2</td>\n      <td>2</td>\n      <td>2</td>\n      <td>2</td>\n      <td>2</td>\n      <td>1</td>\n    </tr>\n    <tr>\n      <th>1</th>\n      <td>0</td>\n      <td>74</td>\n      <td>2</td>\n      <td>1</td>\n      <td>1</td>\n      <td>1</td>\n      <td>2</td>\n      <td>2</td>\n      <td>2</td>\n      <td>1</td>\n      <td>1</td>\n      <td>1</td>\n      <td>2</td>\n      <td>2</td>\n      <td>2</td>\n      <td>1</td>\n    </tr>\n    <tr>\n      <th>2</th>\n      <td>1</td>\n      <td>59</td>\n      <td>1</td>\n      <td>1</td>\n      <td>1</td>\n      <td>2</td>\n      <td>1</td>\n      <td>2</td>\n      <td>1</td>\n      <td>2</td>\n      <td>1</td>\n      <td>2</td>\n      <td>2</td>\n      <td>1</td>\n      <td>2</td>\n      <td>0</td>\n    </tr>\n    <tr>\n      <th>3</th>\n      <td>0</td>\n      <td>63</td>\n      <td>2</td>\n      <td>2</td>\n      <td>2</td>\n      <td>1</td>\n      <td>1</td>\n      <td>1</td>\n      <td>1</td>\n      <td>1</td>\n      <td>2</td>\n      <td>1</td>\n      <td>1</td>\n      <td>2</td>\n      <td>2</td>\n      <td>0</td>\n    </tr>\n    <tr>\n      <th>4</th>\n      <td>1</td>\n      <td>63</td>\n      <td>1</td>\n      <td>2</td>\n      <td>1</td>\n      <td>1</td>\n      <td>1</td>\n      <td>1</td>\n      <td>1</td>\n      <td>2</td>\n      <td>1</td>\n      <td>2</td>\n      <td>2</td>\n      <td>1</td>\n      <td>1</td>\n      <td>0</td>\n    </tr>\n    <tr>\n      <th>...</th>\n      <td>...</td>\n      <td>...</td>\n      <td>...</td>\n      <td>...</td>\n      <td>...</td>\n      <td>...</td>\n      <td>...</td>\n      <td>...</td>\n      <td>...</td>\n      <td>...</td>\n      <td>...</td>\n      <td>...</td>\n      <td>...</td>\n      <td>...</td>\n      <td>...</td>\n      <td>...</td>\n    </tr>\n    <tr>\n      <th>304</th>\n      <td>1</td>\n      <td>56</td>\n      <td>1</td>\n      <td>1</td>\n      <td>1</td>\n      <td>2</td>\n      <td>2</td>\n      <td>2</td>\n      <td>1</td>\n      <td>1</td>\n      <td>2</td>\n      <td>2</td>\n      <td>2</td>\n      <td>2</td>\n      <td>1</td>\n      <td>1</td>\n    </tr>\n    <tr>\n      <th>305</th>\n      <td>0</td>\n      <td>70</td>\n      <td>2</td>\n      <td>1</td>\n      <td>1</td>\n      <td>1</td>\n      <td>1</td>\n      <td>2</td>\n      <td>2</td>\n      <td>2</td>\n      <td>2</td>\n      <td>2</td>\n      <td>2</td>\n      <td>1</td>\n      <td>2</td>\n      <td>1</td>\n    </tr>\n    <tr>\n      <th>306</th>\n      <td>0</td>\n      <td>58</td>\n      <td>2</td>\n      <td>1</td>\n      <td>1</td>\n      <td>1</td>\n      <td>1</td>\n      <td>1</td>\n      <td>2</td>\n      <td>2</td>\n      <td>2</td>\n      <td>2</td>\n      <td>1</td>\n      <td>1</td>\n      <td>2</td>\n      <td>1</td>\n    </tr>\n    <tr>\n      <th>307</th>\n      <td>0</td>\n      <td>67</td>\n      <td>2</td>\n      <td>1</td>\n      <td>2</td>\n      <td>1</td>\n      <td>1</td>\n      <td>2</td>\n      <td>2</td>\n      <td>1</td>\n      <td>2</td>\n      <td>2</td>\n      <td>2</td>\n      <td>1</td>\n      <td>2</td>\n      <td>1</td>\n    </tr>\n    <tr>\n      <th>308</th>\n      <td>0</td>\n      <td>62</td>\n      <td>1</td>\n      <td>1</td>\n      <td>1</td>\n      <td>2</td>\n      <td>1</td>\n      <td>2</td>\n      <td>2</td>\n      <td>2</td>\n      <td>2</td>\n      <td>1</td>\n      <td>1</td>\n      <td>2</td>\n      <td>1</td>\n      <td>1</td>\n    </tr>\n  </tbody>\n</table>\n<p>309 rows × 16 columns</p>\n</div>"
     },
     "execution_count": 58,
     "metadata": {},
     "output_type": "execute_result"
    }
   ],
   "source": [
    "df"
   ]
  },
  {
   "cell_type": "code",
   "execution_count": 59,
   "metadata": {
    "ExecuteTime": {
     "end_time": "2023-11-26T14:24:32.218629Z",
     "start_time": "2023-11-26T14:24:32.215791Z"
    }
   },
   "outputs": [],
   "source": [
    "# Separate features (X) and target variable (y)\n",
    "X = df.iloc[:, :-1]  # Select all columns except the last one\n",
    "y = df.iloc[:, -1]  # Select the last column as the target variable"
   ]
  },
  {
   "cell_type": "code",
   "execution_count": 60,
   "metadata": {
    "ExecuteTime": {
     "end_time": "2023-11-26T14:24:32.876308Z",
     "start_time": "2023-11-26T14:24:32.869963Z"
    }
   },
   "outputs": [
    {
     "data": {
      "text/plain": "     GENDER  AGE  SMOKING  YELLOW_FINGERS  ANXIETY  PEER_PRESSURE  \\\n0         0   69        1               2        2              1   \n1         0   74        2               1        1              1   \n2         1   59        1               1        1              2   \n3         0   63        2               2        2              1   \n4         1   63        1               2        1              1   \n..      ...  ...      ...             ...      ...            ...   \n304       1   56        1               1        1              2   \n305       0   70        2               1        1              1   \n306       0   58        2               1        1              1   \n307       0   67        2               1        2              1   \n308       0   62        1               1        1              2   \n\n     CHRONIC DISEASE  FATIGUE   ALLERGY   WHEEZING  ALCOHOL CONSUMING  \\\n0                  1         2         1         2                  2   \n1                  2         2         2         1                  1   \n2                  1         2         1         2                  1   \n3                  1         1         1         1                  2   \n4                  1         1         1         2                  1   \n..               ...       ...       ...       ...                ...   \n304                2         2         1         1                  2   \n305                1         2         2         2                  2   \n306                1         1         2         2                  2   \n307                1         2         2         1                  2   \n308                1         2         2         2                  2   \n\n     COUGHING  SHORTNESS OF BREATH  SWALLOWING DIFFICULTY  CHEST PAIN  \n0           2                    2                      2           2  \n1           1                    2                      2           2  \n2           2                    2                      1           2  \n3           1                    1                      2           2  \n4           2                    2                      1           1  \n..        ...                  ...                    ...         ...  \n304         2                    2                      2           1  \n305         2                    2                      1           2  \n306         2                    1                      1           2  \n307         2                    2                      1           2  \n308         1                    1                      2           1  \n\n[309 rows x 15 columns]",
      "text/html": "<div>\n<style scoped>\n    .dataframe tbody tr th:only-of-type {\n        vertical-align: middle;\n    }\n\n    .dataframe tbody tr th {\n        vertical-align: top;\n    }\n\n    .dataframe thead th {\n        text-align: right;\n    }\n</style>\n<table border=\"1\" class=\"dataframe\">\n  <thead>\n    <tr style=\"text-align: right;\">\n      <th></th>\n      <th>GENDER</th>\n      <th>AGE</th>\n      <th>SMOKING</th>\n      <th>YELLOW_FINGERS</th>\n      <th>ANXIETY</th>\n      <th>PEER_PRESSURE</th>\n      <th>CHRONIC DISEASE</th>\n      <th>FATIGUE</th>\n      <th>ALLERGY</th>\n      <th>WHEEZING</th>\n      <th>ALCOHOL CONSUMING</th>\n      <th>COUGHING</th>\n      <th>SHORTNESS OF BREATH</th>\n      <th>SWALLOWING DIFFICULTY</th>\n      <th>CHEST PAIN</th>\n    </tr>\n  </thead>\n  <tbody>\n    <tr>\n      <th>0</th>\n      <td>0</td>\n      <td>69</td>\n      <td>1</td>\n      <td>2</td>\n      <td>2</td>\n      <td>1</td>\n      <td>1</td>\n      <td>2</td>\n      <td>1</td>\n      <td>2</td>\n      <td>2</td>\n      <td>2</td>\n      <td>2</td>\n      <td>2</td>\n      <td>2</td>\n    </tr>\n    <tr>\n      <th>1</th>\n      <td>0</td>\n      <td>74</td>\n      <td>2</td>\n      <td>1</td>\n      <td>1</td>\n      <td>1</td>\n      <td>2</td>\n      <td>2</td>\n      <td>2</td>\n      <td>1</td>\n      <td>1</td>\n      <td>1</td>\n      <td>2</td>\n      <td>2</td>\n      <td>2</td>\n    </tr>\n    <tr>\n      <th>2</th>\n      <td>1</td>\n      <td>59</td>\n      <td>1</td>\n      <td>1</td>\n      <td>1</td>\n      <td>2</td>\n      <td>1</td>\n      <td>2</td>\n      <td>1</td>\n      <td>2</td>\n      <td>1</td>\n      <td>2</td>\n      <td>2</td>\n      <td>1</td>\n      <td>2</td>\n    </tr>\n    <tr>\n      <th>3</th>\n      <td>0</td>\n      <td>63</td>\n      <td>2</td>\n      <td>2</td>\n      <td>2</td>\n      <td>1</td>\n      <td>1</td>\n      <td>1</td>\n      <td>1</td>\n      <td>1</td>\n      <td>2</td>\n      <td>1</td>\n      <td>1</td>\n      <td>2</td>\n      <td>2</td>\n    </tr>\n    <tr>\n      <th>4</th>\n      <td>1</td>\n      <td>63</td>\n      <td>1</td>\n      <td>2</td>\n      <td>1</td>\n      <td>1</td>\n      <td>1</td>\n      <td>1</td>\n      <td>1</td>\n      <td>2</td>\n      <td>1</td>\n      <td>2</td>\n      <td>2</td>\n      <td>1</td>\n      <td>1</td>\n    </tr>\n    <tr>\n      <th>...</th>\n      <td>...</td>\n      <td>...</td>\n      <td>...</td>\n      <td>...</td>\n      <td>...</td>\n      <td>...</td>\n      <td>...</td>\n      <td>...</td>\n      <td>...</td>\n      <td>...</td>\n      <td>...</td>\n      <td>...</td>\n      <td>...</td>\n      <td>...</td>\n      <td>...</td>\n    </tr>\n    <tr>\n      <th>304</th>\n      <td>1</td>\n      <td>56</td>\n      <td>1</td>\n      <td>1</td>\n      <td>1</td>\n      <td>2</td>\n      <td>2</td>\n      <td>2</td>\n      <td>1</td>\n      <td>1</td>\n      <td>2</td>\n      <td>2</td>\n      <td>2</td>\n      <td>2</td>\n      <td>1</td>\n    </tr>\n    <tr>\n      <th>305</th>\n      <td>0</td>\n      <td>70</td>\n      <td>2</td>\n      <td>1</td>\n      <td>1</td>\n      <td>1</td>\n      <td>1</td>\n      <td>2</td>\n      <td>2</td>\n      <td>2</td>\n      <td>2</td>\n      <td>2</td>\n      <td>2</td>\n      <td>1</td>\n      <td>2</td>\n    </tr>\n    <tr>\n      <th>306</th>\n      <td>0</td>\n      <td>58</td>\n      <td>2</td>\n      <td>1</td>\n      <td>1</td>\n      <td>1</td>\n      <td>1</td>\n      <td>1</td>\n      <td>2</td>\n      <td>2</td>\n      <td>2</td>\n      <td>2</td>\n      <td>1</td>\n      <td>1</td>\n      <td>2</td>\n    </tr>\n    <tr>\n      <th>307</th>\n      <td>0</td>\n      <td>67</td>\n      <td>2</td>\n      <td>1</td>\n      <td>2</td>\n      <td>1</td>\n      <td>1</td>\n      <td>2</td>\n      <td>2</td>\n      <td>1</td>\n      <td>2</td>\n      <td>2</td>\n      <td>2</td>\n      <td>1</td>\n      <td>2</td>\n    </tr>\n    <tr>\n      <th>308</th>\n      <td>0</td>\n      <td>62</td>\n      <td>1</td>\n      <td>1</td>\n      <td>1</td>\n      <td>2</td>\n      <td>1</td>\n      <td>2</td>\n      <td>2</td>\n      <td>2</td>\n      <td>2</td>\n      <td>1</td>\n      <td>1</td>\n      <td>2</td>\n      <td>1</td>\n    </tr>\n  </tbody>\n</table>\n<p>309 rows × 15 columns</p>\n</div>"
     },
     "execution_count": 60,
     "metadata": {},
     "output_type": "execute_result"
    }
   ],
   "source": [
    "X"
   ]
  },
  {
   "cell_type": "code",
   "execution_count": 61,
   "metadata": {
    "ExecuteTime": {
     "end_time": "2023-11-26T14:24:33.358634Z",
     "start_time": "2023-11-26T14:24:33.356466Z"
    }
   },
   "outputs": [
    {
     "data": {
      "text/plain": "0      1\n1      1\n2      0\n3      0\n4      0\n      ..\n304    1\n305    1\n306    1\n307    1\n308    1\nName: LUNG_CANCER, Length: 309, dtype: int64"
     },
     "execution_count": 61,
     "metadata": {},
     "output_type": "execute_result"
    }
   ],
   "source": [
    "y"
   ]
  },
  {
   "cell_type": "code",
   "execution_count": 62,
   "metadata": {
    "ExecuteTime": {
     "end_time": "2023-11-26T14:24:33.899061Z",
     "start_time": "2023-11-26T14:24:33.896597Z"
    }
   },
   "outputs": [],
   "source": [
    "from sklearn.model_selection import train_test_split\n",
    "X_train, X_test, y_train, y_test = train_test_split(X, y, test_size=0.2, random_state=0)"
   ]
  },
  {
   "cell_type": "code",
   "execution_count": 63,
   "metadata": {
    "ExecuteTime": {
     "end_time": "2023-11-26T14:24:35.733308Z",
     "start_time": "2023-11-26T14:24:35.730780Z"
    }
   },
   "outputs": [
    {
     "data": {
      "text/plain": "pandas.core.frame.DataFrame"
     },
     "execution_count": 63,
     "metadata": {},
     "output_type": "execute_result"
    }
   ],
   "source": [
    "type(X_train)"
   ]
  },
  {
   "cell_type": "code",
   "execution_count": 64,
   "metadata": {
    "ExecuteTime": {
     "end_time": "2023-11-26T14:24:36.189114Z",
     "start_time": "2023-11-26T14:24:36.179147Z"
    }
   },
   "outputs": [
    {
     "name": "stderr",
     "output_type": "stream",
     "text": [
      "/Users/Shared/u001/src/github/Lung-Cancer-AI/venv/lib/python3.10/site-packages/sklearn/linear_model/_logistic.py:460: ConvergenceWarning: lbfgs failed to converge (status=1):\n",
      "STOP: TOTAL NO. of ITERATIONS REACHED LIMIT.\n",
      "\n",
      "Increase the number of iterations (max_iter) or scale the data as shown in:\n",
      "    https://scikit-learn.org/stable/modules/preprocessing.html\n",
      "Please also refer to the documentation for alternative solver options:\n",
      "    https://scikit-learn.org/stable/modules/linear_model.html#logistic-regression\n",
      "  n_iter_i = _check_optimize_result(\n"
     ]
    }
   ],
   "source": [
    "import numpy as np\n",
    "from sklearn.linear_model import LogisticRegression\n",
    "\n",
    "# creating the logistic regression model\n",
    "model = LogisticRegression()\n",
    "\n",
    "# fitting the model to the training data\n",
    "model.fit(X_train,y_train)\n",
    "\n",
    "# making the predictions on the testing data. pred means prediction\n",
    "y_pred = model.predict(X_test)\n"
   ]
  },
  {
   "cell_type": "code",
   "execution_count": 65,
   "metadata": {
    "ExecuteTime": {
     "end_time": "2023-11-26T14:24:37.689174Z",
     "start_time": "2023-11-26T14:24:37.685188Z"
    }
   },
   "outputs": [
    {
     "data": {
      "text/plain": "0.9032258064516129"
     },
     "execution_count": 65,
     "metadata": {},
     "output_type": "execute_result"
    }
   ],
   "source": [
    "from sklearn.metrics import accuracy_score\n",
    "\n",
    "accuracy = accuracy_score(y_test, y_pred)\n",
    "\n",
    "accuracy"
   ]
  },
  {
   "cell_type": "code",
   "execution_count": 66,
   "outputs": [],
   "source": [
    "test = [ 1, 68,  1,  1,  2,  1,  2,  1,  2,  2,  2,  1,  1,  2,  1]\n",
    "# cerate a dataframe from the list\n",
    "test_df = pd.DataFrame([test], columns=X.columns)"
   ],
   "metadata": {
    "collapsed": false,
    "ExecuteTime": {
     "end_time": "2023-11-26T14:24:39.003301Z",
     "start_time": "2023-11-26T14:24:39.001619Z"
    }
   }
  },
  {
   "cell_type": "code",
   "execution_count": 67,
   "outputs": [],
   "source": [
    "y = model.predict(test_df)"
   ],
   "metadata": {
    "collapsed": false,
    "ExecuteTime": {
     "end_time": "2023-11-26T14:24:47.031924Z",
     "start_time": "2023-11-26T14:24:47.027577Z"
    }
   }
  },
  {
   "cell_type": "code",
   "execution_count": 70,
   "outputs": [
    {
     "data": {
      "text/plain": "array([1])"
     },
     "execution_count": 70,
     "metadata": {},
     "output_type": "execute_result"
    }
   ],
   "source": [
    "y"
   ],
   "metadata": {
    "collapsed": false,
    "ExecuteTime": {
     "end_time": "2023-11-26T14:24:55.635334Z",
     "start_time": "2023-11-26T14:24:55.633361Z"
    }
   }
  },
  {
   "cell_type": "code",
   "execution_count": 71,
   "outputs": [
    {
     "name": "stdout",
     "output_type": "stream",
     "text": [
      "Precision: 0.9107142857142857\n",
      "Recall: 0.9807692307692307\n"
     ]
    }
   ],
   "source": [
    "from sklearn.metrics import precision_score, recall_score\n",
    "\n",
    "# Assuming `y_test` are the true labels and `y_pred` are the predicted labels\n",
    "precision = precision_score(y_test, y_pred)\n",
    "recall = recall_score(y_test, y_pred)\n",
    "\n",
    "print(f'Precision: {precision}')\n",
    "print(f'Recall: {recall}')"
   ],
   "metadata": {
    "collapsed": false,
    "ExecuteTime": {
     "end_time": "2023-11-26T14:25:06.411382Z",
     "start_time": "2023-11-26T14:25:06.400111Z"
    }
   }
  },
  {
   "cell_type": "code",
   "execution_count": null,
   "outputs": [],
   "source": [],
   "metadata": {
    "collapsed": false
   }
  }
 ],
 "metadata": {
  "kernelspec": {
   "display_name": ".venv",
   "language": "python",
   "name": "python3"
  },
  "language_info": {
   "codemirror_mode": {
    "name": "ipython",
    "version": 3
   },
   "file_extension": ".py",
   "mimetype": "text/x-python",
   "name": "python",
   "nbconvert_exporter": "python",
   "pygments_lexer": "ipython3",
   "version": "3.11.6"
  }
 },
 "nbformat": 4,
 "nbformat_minor": 2
}
